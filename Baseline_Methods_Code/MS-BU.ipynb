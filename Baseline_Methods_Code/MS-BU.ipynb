{
 "cells": [
  {
   "cell_type": "code",
   "execution_count": 1,
   "id": "gross-rough",
   "metadata": {},
   "outputs": [],
   "source": [
    "# 我们论文提出的MS-BU方法，没有加入遗传算法进行优化， 后续的MS-BU-GA则是加入了遗传算法优化后的结果"
   ]
  },
  {
   "cell_type": "code",
   "execution_count": null,
   "id": "metric-basics",
   "metadata": {},
   "outputs": [],
   "source": []
  }
 ],
 "metadata": {
  "kernelspec": {
   "display_name": "Python 3",
   "language": "python",
   "name": "python3"
  },
  "language_info": {
   "codemirror_mode": {
    "name": "ipython",
    "version": 3
   },
   "file_extension": ".py",
   "mimetype": "text/x-python",
   "name": "python",
   "nbconvert_exporter": "python",
   "pygments_lexer": "ipython3",
   "version": "3.8.8"
  }
 },
 "nbformat": 4,
 "nbformat_minor": 5
}
